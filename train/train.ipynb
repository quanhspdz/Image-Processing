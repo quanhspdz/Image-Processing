{
 "nbformat": 4,
 "nbformat_minor": 0,
 "metadata": {
  "colab": {
   "provenance": [],
   "machine_shape": "hm",
   "gpuType": "V100"
  },
  "kernelspec": {
   "name": "python3",
   "display_name": "Python 3"
  },
  "language_info": {
   "name": "python"
  },
  "accelerator": "GPU"
 },
 "cells": [
  {
   "cell_type": "code",
   "source": [
    "from google.colab import drive\n",
    "drive.mount('/content/drive')"
   ],
   "metadata": {
    "colab": {
     "base_uri": "https://localhost:8080/"
    },
    "id": "iNY7gd4O_g64",
    "outputId": "74855ccb-289f-41e2-95bd-69a71aa41c6f"
   },
   "execution_count": 1,
   "outputs": []
  },
  {
   "cell_type": "code",
   "source": [
    "!pip install ultralytics"
   ],
   "metadata": {
    "id": "rqhqUiCCBFCj"
   },
   "execution_count": null,
   "outputs": []
  },
  {
   "cell_type": "code",
   "execution_count": 3,
   "metadata": {
    "id": "vK14IxIn85ol",
    "colab": {
     "base_uri": "https://localhost:8080/"
    },
    "outputId": "63308017-7e0f-405c-cb19-5b0026e1ba62"
   },
   "source": [
    "from ultralytics import YOLO\n",
    "\n",
    "# Load a model\n",
    "model = YOLO('yolov8n.pt')\n",
    "\n",
    "# Train the model\n",
    "results = model.train(data='/content/drive/MyDrive/Text2comic/detector_yolov8/comic.yaml', epochs=200, imgsz=640)"
   ],
   "outputs": []
  },
  {
   "cell_type": "code",
   "source": [
    "from ultralytics import YOLO\n",
    "\n",
    "# Load a model\n",
    "\n",
    "model = YOLO('/content/drive/MyDrive/Text2comic/detector_yolov8/runs/detect/train/weights/best.pt')  # load a custom model\n",
    "\n",
    "# Validate the model\n",
    "metrics = model.val()  # no arguments needed, dataset and settings remembered\n",
    "metrics.box.map    # map50-95\n",
    "metrics.box.map50  # map50\n",
    "metrics.box.map75  # map75\n",
    "metrics.box.maps   # a list contains map50-95 of each category"
   ],
   "metadata": {
    "colab": {
     "base_uri": "https://localhost:8080/"
    },
    "id": "EwhyDjsT_h95",
    "outputId": "9116f834-bd7d-4e3a-cbb4-4f5aafe13a27"
   },
   "execution_count": 5,
   "outputs": []
  },
  {
   "cell_type": "code",
   "source": [
    "from PIL import Image\n",
    "from ultralytics import YOLO\n",
    "\n",
    "# Load a pretrained YOLOv8n model\n",
    "model = YOLO('/content/drive/MyDrive/Text2comic/detector_yolov8/runs/detect/train/weights/best.pt')\n",
    "\n",
    "# Run inference on 'bus.jpg'\n",
    "results = model('/content/2.jpg')  # results list\n",
    "\n",
    "# Show the results\n",
    "for r in results:\n",
    "    print(r.boxes)\n",
    "    im_array = r.plot()  # plot a BGR numpy array of predictions\n",
    "    im = Image.fromarray(im_array[..., ::-1])  # RGB PIL image\n",
    "    im.show()  # show image\n",
    "    im.save('results.jpg')  # save image"
   ],
   "metadata": {
    "colab": {
     "base_uri": "https://localhost:8080/"
    },
    "id": "uBgXaeUEGvkH",
    "outputId": "63a6bfd1-5e3c-45e7-f9bb-f54ba321ebf2"
   },
   "execution_count": null,
   "outputs": []
  },
  {
   "cell_type": "code",
   "source": [],
   "metadata": {
    "id": "Vg-nwaKJcZLq"
   },
   "execution_count": null,
   "outputs": []
  },
  {
   "cell_type": "code",
   "source": [
    "# Run inference on 'bus.jpg'\n",
    "from PIL import Image\n",
    "from ultralytics import YOLO\n",
    "import numpy as np\n",
    "import cv2\n",
    "from google.colab.patches import cv2_imshow\n",
    "import torch\n",
    "# Load a pretrained YOLOv8n model\n",
    "model = YOLO('/content/drive/MyDrive/Text2comic/detector_yolov8/runs/detect/train/weights/best.pt')\n",
    "\n",
    "# Run inference on 'bus.jpg'\n",
    "results = model('/content/1.jpg')  # results list\n",
    "img = cv2.imread('/content/1.jpg')\n",
    "\n",
    "# Show the coordinates and dimensions of boxes\n",
    "texts = [\"I don't like the rain\",\"I'll share my umbrella so you stay dry , friend\"]\n",
    "sorted_boxes = sorted(results[0].boxes.xyxy, key=lambda box: box[0])\n",
    "i = 0\n",
    "for box in sorted_boxes:\n",
    "    x, y, w, h = box.tolist()\n",
    "    x1, y1, x2, y2 = int(x), int(y), int(w), int(h)\n",
    "    cv2.rectangle(img, (x1, y1), (x2, y2), (255, 255, 255), -1)\n",
    "    text = texts[i]\n",
    "    i += 1\n",
    "    # Tạo font<c\n",
    "    font = cv2.FONT_HERSHEY_SIMPLEX\n",
    "\n",
    "    # Kích thước giới hạn của văn bản\n",
    "    text_max_width = x2 - x1\n",
    "    text_max_height = y2 - y1\n",
    "\n",
    "    # Tính toạ độ và kích thước của văn bản\n",
    "    lines = []\n",
    "    words = text.split()\n",
    "    line = \"\"\n",
    "    for word in words:\n",
    "        new_line = line + \" \" + word if line else word\n",
    "        text_size, _ = cv2.getTextSize(new_line, font, fontScale=1, thickness=1)\n",
    "        text_width, text_height = text_size\n",
    "\n",
    "        if text_width <= text_max_width:\n",
    "            line = new_line\n",
    "        else:\n",
    "            lines.append(line)\n",
    "            line = word\n",
    "\n",
    "    lines.append(line)\n",
    "\n",
    "    # Tính font_scale để vừa vặn\n",
    "    font_scale = min(text_max_width / text_width, text_max_height / (text_height * len(lines)))\n",
    "\n",
    "    # Điều chỉnh kích thước và toạ độ của văn bản\n",
    "    text_height *= font_scale\n",
    "    line_spacing = int(0.2 * text_height) # Khoảng cách giữa các dòng (20% của chiều cao văn bản)\n",
    "    text_y = y1 + int((text_max_height - text_height * len(lines) - line_spacing * (len(lines) - 1)) / 2) + 10\n",
    "\n",
    "    # Thêm văn bản vừa vặn và xuống dòng\n",
    "    for line in lines:\n",
    "        text_size, _ = cv2.getTextSize(line, font, fontScale=font_scale, thickness=1)\n",
    "        text_width, _ = text_size\n",
    "        text_x = x1 + int((text_max_width - text_width) / 2)\n",
    "        cv2.putText(img, line, (text_x, text_y), font, font_scale, (0, 0, 0), thickness=2)\n",
    "        text_y += int(text_height + line_spacing)\n",
    "\n",
    "\n",
    "cv2_imshow(img)\n",
    "cv2.waitKey(0)\n",
    "cv2.destroyAllWindows()"
   ],
   "metadata": {
    "colab": {
     "base_uri": "https://localhost:8080/",
     "height": 609
    },
    "id": "LSintU0BG1i3",
    "outputId": "c5749de8-0c30-46ad-f256-226811554201"
   },
   "execution_count": null,
   "outputs": []
  },
  {
   "cell_type": "code",
   "source": [
    "r.boxes.xyxy"
   ],
   "metadata": {
    "id": "W9fJ6wXCIajf",
    "colab": {
     "base_uri": "https://localhost:8080/"
    },
    "outputId": "2920fd84-f39b-4fde-d929-832b7f14c4e1"
   },
   "execution_count": null,
   "outputs": []
  },
  {
   "cell_type": "code",
   "source": [
    "sorted_boxes"
   ],
   "metadata": {
    "colab": {
     "base_uri": "https://localhost:8080/"
    },
    "id": "ViuL6j9DcdUZ",
    "outputId": "cdde63e2-7680-4dbb-a764-7fb999139dee"
   },
   "execution_count": null,
   "outputs": []
  },
  {
   "cell_type": "code",
   "source": [],
   "metadata": {
    "id": "BkQ8ZjqCfuAw"
   },
   "execution_count": null,
   "outputs": []
  }
 ]
}
